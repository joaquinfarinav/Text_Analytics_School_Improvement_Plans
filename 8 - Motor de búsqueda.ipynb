{
 "cells": [
  {
   "cell_type": "markdown",
   "id": "588958f2",
   "metadata": {},
   "source": [
    "# Motor de búsqueda \n",
    "\n",
    "Al ejecutar este código, usuario podrá ingresar el término que desee buscar. Es decir, el algoritmo buscará aquellas acciones PME que mejor se asocien al término ingresado. \n",
    "\n",
    "OUTPUT: archivo excel con acciones seleccionadas."
   ]
  },
  {
   "cell_type": "code",
   "execution_count": 1,
   "id": "aebb17a1",
   "metadata": {},
   "outputs": [],
   "source": [
    "import pandas as pd\n",
    "import os \n",
    "import re\n",
    "from transformers import pipeline\n"
   ]
  },
  {
   "cell_type": "code",
   "execution_count": 2,
   "id": "e27d723c",
   "metadata": {},
   "outputs": [],
   "source": [
    "# Directories [cambiar a directorio propios]\n",
    "path = r'C:\\Users\\JoaquinFarina\\Dropbox\\Team NLP\\Data'\n",
    "# Carpeta con subcarpetas de años con datos PME\n",
    "pme_path = path + r'\\Planes de Mejoramiento Educativo'\n",
    "os.chdir(pme_path)"
   ]
  },
  {
   "cell_type": "code",
   "execution_count": 27,
   "id": "b1d40069",
   "metadata": {},
   "outputs": [],
   "source": [
    "# cargar bbdd\n",
    "df_planificacion_implementacion_total = pd.read_csv('df_planificacion_implementacion_total_indicadores_forma.csv',\n",
    "                                                    low_memory = False)"
   ]
  },
  {
   "cell_type": "code",
   "execution_count": 60,
   "id": "23bc4bed",
   "metadata": {},
   "outputs": [
    {
     "name": "stdout",
     "output_type": "stream",
     "text": [
      "¿Qué concepto desea buscar? Puntualidad\n",
      "¿En qué año quienres buscar (2018 - 2022)?2019\n"
     ]
    }
   ],
   "source": [
    "# Query\n",
    "concept = input('¿Qué concepto desea buscar? : ')\n",
    "agno = input('¿En qué año quienres buscar (2018 - 2022)? : ')"
   ]
  },
  {
   "cell_type": "code",
   "execution_count": 75,
   "id": "8087a00b",
   "metadata": {},
   "outputs": [],
   "source": [
    "# Normalizar concepto\n",
    "concept = unidecode(concept)\n",
    "concept = re.sub(r'[^\\w\\s]', ' ', concept)\n",
    "concept = concept.lower()\n",
    "# Generar lista de acciones \n",
    "df_caso = df_planificacion_implementacion_total[df_planificacion_implementacion_total.agno == int(agno)]\n",
    "planificacion_descripcion_acciones = list(set(df_caso.descripción_del_plan_planif_norm.values))"
   ]
  },
  {
   "cell_type": "code",
   "execution_count": 80,
   "id": "bb935401",
   "metadata": {},
   "outputs": [],
   "source": [
    "# instanciar transformer \n",
    "classifier = pipeline(\"zero-shot-classification\", \n",
    "                       model=\"Recognai/bert-base-spanish-wwm-cased-xnli\")\n",
    "# Corriendo sólo para 1000 filas para que prueba sea más rápida \n",
    "dict_match = {}\n",
    "for accion in planificacion_descripcion_acciones[:1000]:\n",
    "    clasif = classifier(accion, candidate_labels=[concept])\n",
    "    dict_match[accion] = clasif['scores']"
   ]
  },
  {
   "cell_type": "code",
   "execution_count": 81,
   "id": "926ea603",
   "metadata": {},
   "outputs": [],
   "source": [
    "# umbral para filtrar \n",
    "umbral = 0.5\n",
    "# Generar dataframe con scores \n",
    "df_resumen = pd.DataFrame(dict_match).T.reset_index()\n",
    "df_resumen.columns = ['descripción_del_plan_planif_norm',concept]\n",
    "df_resumen = df_resumen.sort_values(by=[concept], ascending=False)\n",
    "df_resumen= df_resumen[df_resumen[concept]>=umbral]\n",
    "# Consolidar con resto de los datos, pero sólo para acciones seleccionadas\n",
    "df_final = pd.merge(df_caso, df_resumen, on = 'descripción_del_plan_planif_norm', how='right')\n",
    "# Guardar\n",
    "df_final.to_excel('bsuqueda_en_acciones_pme_' + concept + '_' + agno + '.xlsx')"
   ]
  }
 ],
 "metadata": {
  "kernelspec": {
   "display_name": "Python 3 (ipykernel)",
   "language": "python",
   "name": "python3"
  },
  "language_info": {
   "codemirror_mode": {
    "name": "ipython",
    "version": 3
   },
   "file_extension": ".py",
   "mimetype": "text/x-python",
   "name": "python",
   "nbconvert_exporter": "python",
   "pygments_lexer": "ipython3",
   "version": "3.9.13"
  },
  "latex_envs": {
   "LaTeX_envs_menu_present": true,
   "autoclose": false,
   "autocomplete": true,
   "bibliofile": "biblio.bib",
   "cite_by": "apalike",
   "current_citInitial": 1,
   "eqLabelWithNumbers": true,
   "eqNumInitial": 1,
   "hotkeys": {
    "equation": "Ctrl-E",
    "itemize": "Ctrl-I"
   },
   "labels_anchors": false,
   "latex_user_defs": false,
   "report_style_numbering": false,
   "user_envs_cfg": false
  },
  "toc": {
   "base_numbering": 1,
   "nav_menu": {},
   "number_sections": true,
   "sideBar": true,
   "skip_h1_title": false,
   "title_cell": "Table of Contents",
   "title_sidebar": "Contents",
   "toc_cell": false,
   "toc_position": {},
   "toc_section_display": true,
   "toc_window_display": false
  },
  "varInspector": {
   "cols": {
    "lenName": 16,
    "lenType": 16,
    "lenVar": 40
   },
   "kernels_config": {
    "python": {
     "delete_cmd_postfix": "",
     "delete_cmd_prefix": "del ",
     "library": "var_list.py",
     "varRefreshCmd": "print(var_dic_list())"
    },
    "r": {
     "delete_cmd_postfix": ") ",
     "delete_cmd_prefix": "rm(",
     "library": "var_list.r",
     "varRefreshCmd": "cat(var_dic_list()) "
    }
   },
   "types_to_exclude": [
    "module",
    "function",
    "builtin_function_or_method",
    "instance",
    "_Feature"
   ],
   "window_display": false
  }
 },
 "nbformat": 4,
 "nbformat_minor": 5
}
